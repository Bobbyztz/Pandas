{
 "cells": [
  {
   "cell_type": "code",
   "execution_count": 1,
   "id": "initial_id",
   "metadata": {
    "collapsed": true,
    "ExecuteTime": {
     "end_time": "2023-12-25T18:43:32.297446Z",
     "start_time": "2023-12-25T18:40:49.078747Z"
    }
   },
   "outputs": [
    {
     "name": "stdout",
     "output_type": "stream",
     "text": [
      "Collecting pandas\r\n",
      "  Downloading pandas-2.1.4-cp39-cp39-macosx_11_0_arm64.whl.metadata (18 kB)\r\n",
      "Collecting numpy<2,>=1.22.4 (from pandas)\r\n",
      "  Downloading numpy-1.26.2-cp39-cp39-macosx_11_0_arm64.whl.metadata (61 kB)\r\n",
      "\u001B[2K     \u001B[90m━━━━━━━━━━━━━━━━━━━━━━━━━━━━━━━━━━━━━━━\u001B[0m \u001B[32m61.2/61.2 kB\u001B[0m \u001B[31m140.8 kB/s\u001B[0m eta \u001B[36m0:00:00\u001B[0ma \u001B[36m0:00:01\u001B[0m\r\n",
      "\u001B[?25hRequirement already satisfied: python-dateutil>=2.8.2 in ./venv/lib/python3.9/site-packages (from pandas) (2.8.2)\r\n",
      "Collecting pytz>=2020.1 (from pandas)\r\n",
      "  Downloading pytz-2023.3.post1-py2.py3-none-any.whl.metadata (22 kB)\r\n",
      "Collecting tzdata>=2022.1 (from pandas)\r\n",
      "  Downloading tzdata-2023.3-py2.py3-none-any.whl (341 kB)\r\n",
      "\u001B[2K     \u001B[90m━━━━━━━━━━━━━━━━━━━━━━━━━━━━━━━━━━━━━\u001B[0m \u001B[32m341.8/341.8 kB\u001B[0m \u001B[31m590.5 kB/s\u001B[0m eta \u001B[36m0:00:00\u001B[0ma \u001B[36m0:00:01\u001B[0m\r\n",
      "\u001B[?25hRequirement already satisfied: six>=1.5 in ./venv/lib/python3.9/site-packages (from python-dateutil>=2.8.2->pandas) (1.16.0)\r\n",
      "Downloading pandas-2.1.4-cp39-cp39-macosx_11_0_arm64.whl (11.0 MB)\r\n",
      "\u001B[2K   \u001B[90m━━━━━━━━━━━━━━━━━━━━━━━━━━━━━━━━━━━━━━━━\u001B[0m \u001B[32m11.0/11.0 MB\u001B[0m \u001B[31m154.0 kB/s\u001B[0m eta \u001B[36m0:00:00\u001B[0m00:01\u001B[0m00:02\u001B[0m\r\n",
      "\u001B[?25hDownloading numpy-1.26.2-cp39-cp39-macosx_11_0_arm64.whl (14.0 MB)\r\n",
      "\u001B[2K   \u001B[90m━━━━━━━━━━━━━━━━━━━━━━━━━━━━━━━━━━━━━━━━\u001B[0m \u001B[32m14.0/14.0 MB\u001B[0m \u001B[31m150.4 kB/s\u001B[0m eta \u001B[36m0:00:00\u001B[0m00:01\u001B[0m00:03\u001B[0m\r\n",
      "\u001B[?25hDownloading pytz-2023.3.post1-py2.py3-none-any.whl (502 kB)\r\n",
      "\u001B[2K   \u001B[90m━━━━━━━━━━━━━━━━━━━━━━━━━━━━━━━━━━━━━━━\u001B[0m \u001B[32m502.5/502.5 kB\u001B[0m \u001B[31m187.9 kB/s\u001B[0m eta \u001B[36m0:00:00\u001B[0ma \u001B[36m0:00:01\u001B[0m\r\n",
      "\u001B[?25hInstalling collected packages: pytz, tzdata, numpy, pandas\r\n",
      "Successfully installed numpy-1.26.2 pandas-2.1.4 pytz-2023.3.post1 tzdata-2023.3\r\n",
      "\r\n",
      "\u001B[1m[\u001B[0m\u001B[34;49mnotice\u001B[0m\u001B[1;39;49m]\u001B[0m\u001B[39;49m A new release of pip is available: \u001B[0m\u001B[31;49m23.3.1\u001B[0m\u001B[39;49m -> \u001B[0m\u001B[32;49m23.3.2\u001B[0m\r\n",
      "\u001B[1m[\u001B[0m\u001B[34;49mnotice\u001B[0m\u001B[1;39;49m]\u001B[0m\u001B[39;49m To update, run: \u001B[0m\u001B[32;49mpip install --upgrade pip\u001B[0m\r\n"
     ]
    }
   ],
   "source": [
    "!pip install pandas"
   ]
  },
  {
   "cell_type": "code",
   "execution_count": 2,
   "outputs": [],
   "source": [
    "import pandas as pd"
   ],
   "metadata": {
    "collapsed": false,
    "ExecuteTime": {
     "end_time": "2023-12-25T18:44:47.041756Z",
     "start_time": "2023-12-25T18:44:46.829391Z"
    }
   },
   "id": "5162b942ecdf4b41"
  },
  {
   "cell_type": "code",
   "execution_count": 4,
   "outputs": [],
   "source": [
    "#create dataframe for multi-level index\n",
    "data ={\n",
    "   'Value':[10,20,30,40,50,60],'Category':['A','B','C','A','B','C'],'Year':[2020,2020,2020,2021,2021,2021]}\n",
    "\n",
    "df = pd.DataFrame(data)\n",
    "df.set_index(['Year','Category'], inplace=True)"
   ],
   "metadata": {
    "collapsed": false,
    "ExecuteTime": {
     "end_time": "2023-12-25T18:47:50.676410Z",
     "start_time": "2023-12-25T18:47:50.673920Z"
    }
   },
   "id": "747c5e59bc4d2b32"
  },
  {
   "cell_type": "code",
   "execution_count": 5,
   "outputs": [],
   "source": [
    "#Create a multilevel index using the MultiIndex object\n",
    "index = pd.MultiIndex.from_tuples([(2020,'A'),(2020,'B'),(2020,'C'),(2021,'A'),(2021,'B'),(2021,'C')],\n",
    "                                  names=['Year','Category'])\n",
    "\n",
    "data ={\n",
    "   'Value':[10,20,30,40,50,60]}\n",
    "df = pd.DataFrame(data, index=index)"
   ],
   "metadata": {
    "collapsed": false,
    "ExecuteTime": {
     "end_time": "2023-12-25T18:47:54.089902Z",
     "start_time": "2023-12-25T18:47:54.087959Z"
    }
   },
   "id": "b91688e9e995d2d5"
  },
  {
   "cell_type": "code",
   "execution_count": 7,
   "outputs": [
    {
     "name": "stdout",
     "output_type": "stream",
     "text": [
      "          Value\n",
      "Category       \n",
      "A            10\n",
      "B            20\n",
      "C            30\n"
     ]
    }
   ],
   "source": [
    "#Slicing multilevel indexes using .loc\n",
    "result = df.loc[2020]\n",
    "print(result)"
   ],
   "metadata": {
    "collapsed": false,
    "ExecuteTime": {
     "end_time": "2023-12-25T18:48:58.806022Z",
     "start_time": "2023-12-25T18:48:58.802391Z"
    }
   },
   "id": "482bdb2f6327242c"
  },
  {
   "cell_type": "code",
   "execution_count": 8,
   "outputs": [
    {
     "name": "stdout",
     "output_type": "stream",
     "text": [
      "          Value\n",
      "Category       \n",
      "A            10\n",
      "B            20\n",
      "C            30\n"
     ]
    }
   ],
   "source": [
    "#Slicing multilevel indexes using .xs\n",
    "result = df.xs(key=2020, level='Year')\n",
    "print(result)"
   ],
   "metadata": {
    "collapsed": false,
    "ExecuteTime": {
     "end_time": "2023-12-25T18:52:23.010273Z",
     "start_time": "2023-12-25T18:52:23.007324Z"
    }
   },
   "id": "cef9fc6c93e82709"
  },
  {
   "cell_type": "code",
   "execution_count": 9,
   "outputs": [
    {
     "name": "stdout",
     "output_type": "stream",
     "text": [
      "Year  Category       \n",
      "2020  A         Value    10\n",
      "      B         Value    20\n",
      "      C         Value    30\n",
      "2021  A         Value    40\n",
      "      B         Value    50\n",
      "      C         Value    60\n",
      "dtype: int64\n"
     ]
    }
   ],
   "source": [
    "#stack using the stack method\n",
    "stacked_df = df.stack()\n",
    "print(stacked_df)"
   ],
   "metadata": {
    "collapsed": false,
    "ExecuteTime": {
     "end_time": "2023-12-25T18:53:34.717155Z",
     "start_time": "2023-12-25T18:53:34.714070Z"
    }
   },
   "id": "9d797560e119f425"
  },
  {
   "cell_type": "code",
   "execution_count": 10,
   "outputs": [
    {
     "name": "stdout",
     "output_type": "stream",
     "text": [
      "               Value\n",
      "Year Category       \n",
      "2020 A            10\n",
      "     B            20\n",
      "     C            30\n",
      "2021 A            40\n",
      "     B            50\n",
      "     C            60\n"
     ]
    }
   ],
   "source": [
    "#unstack using the unstack method\n",
    "unstacked_df = stacked_df.unstack()\n",
    "print(unstacked_df)"
   ],
   "metadata": {
    "collapsed": false,
    "ExecuteTime": {
     "end_time": "2023-12-25T18:55:15.811218Z",
     "start_time": "2023-12-25T18:55:15.806086Z"
    }
   },
   "id": "9de647b0b66a5ceb"
  },
  {
   "cell_type": "code",
   "execution_count": 11,
   "outputs": [
    {
     "name": "stdout",
     "output_type": "stream",
     "text": [
      "               Value\n",
      "Category Year       \n",
      "A        2020     10\n",
      "B        2020     20\n",
      "C        2020     30\n",
      "A        2021     40\n",
      "B        2021     50\n",
      "C        2021     60\n"
     ]
    }
   ],
   "source": [
    "#The swaplevel method is used to exchange index levels\n",
    "swapped_df = df.swaplevel('Year','Category')\n",
    "print(swapped_df)"
   ],
   "metadata": {
    "collapsed": false,
    "ExecuteTime": {
     "end_time": "2023-12-25T18:59:23.656182Z",
     "start_time": "2023-12-25T18:59:23.653359Z"
    }
   },
   "id": "3b28a1e6a0bad1e1"
  },
  {
   "cell_type": "code",
   "execution_count": 12,
   "outputs": [
    {
     "name": "stdout",
     "output_type": "stream",
     "text": [
      "               Value\n",
      "Year Category       \n",
      "2021 C            60\n",
      "     B            50\n",
      "     A            40\n",
      "2020 C            30\n",
      "     B            20\n",
      "     A            10\n"
     ]
    }
   ],
   "source": [
    "# sort the index using the sort index method\n",
    "sorted_df = df.sort_index(level='Year', ascending=False)\n",
    "print(sorted_df)"
   ],
   "metadata": {
    "collapsed": false,
    "ExecuteTime": {
     "end_time": "2023-12-25T19:00:31.529705Z",
     "start_time": "2023-12-25T19:00:31.524933Z"
    }
   },
   "id": "3586402452a66020"
  },
  {
   "cell_type": "code",
   "execution_count": 14,
   "outputs": [
    {
     "name": "stdout",
     "output_type": "stream",
     "text": [
      "      Value\n",
      "Year       \n",
      "2020     60\n",
      "2021    150\n"
     ]
    }
   ],
   "source": [
    "# Aggregate with multilevel indexes\n",
    "aggregated_result = df.groupby(level='Year').sum()\n",
    "print(aggregated_result)"
   ],
   "metadata": {
    "collapsed": false,
    "ExecuteTime": {
     "end_time": "2023-12-25T19:05:36.482317Z",
     "start_time": "2023-12-25T19:05:36.479273Z"
    }
   },
   "id": "95787b4cc459a8ab"
  },
  {
   "cell_type": "code",
   "execution_count": null,
   "outputs": [],
   "source": [],
   "metadata": {
    "collapsed": false
   },
   "id": "9a7d44acda6276ff"
  },
  {
   "cell_type": "code",
   "execution_count": 17,
   "outputs": [
    {
     "data": {
      "text/plain": "               Value\nTime Category       \n2020 A            10\n     B            20\n     C            30\n2021 A            40\n     B            50\n     C            60",
      "text/html": "<div>\n<style scoped>\n    .dataframe tbody tr th:only-of-type {\n        vertical-align: middle;\n    }\n\n    .dataframe tbody tr th {\n        vertical-align: top;\n    }\n\n    .dataframe thead th {\n        text-align: right;\n    }\n</style>\n<table border=\"1\" class=\"dataframe\">\n  <thead>\n    <tr style=\"text-align: right;\">\n      <th></th>\n      <th></th>\n      <th>Value</th>\n    </tr>\n    <tr>\n      <th>Time</th>\n      <th>Category</th>\n      <th></th>\n    </tr>\n  </thead>\n  <tbody>\n    <tr>\n      <th rowspan=\"3\" valign=\"top\">2020</th>\n      <th>A</th>\n      <td>10</td>\n    </tr>\n    <tr>\n      <th>B</th>\n      <td>20</td>\n    </tr>\n    <tr>\n      <th>C</th>\n      <td>30</td>\n    </tr>\n    <tr>\n      <th rowspan=\"3\" valign=\"top\">2021</th>\n      <th>A</th>\n      <td>40</td>\n    </tr>\n    <tr>\n      <th>B</th>\n      <td>50</td>\n    </tr>\n    <tr>\n      <th>C</th>\n      <td>60</td>\n    </tr>\n  </tbody>\n</table>\n</div>"
     },
     "execution_count": 17,
     "metadata": {},
     "output_type": "execute_result"
    }
   ],
   "source": [
    "# Rename the level of the multilevel index\n",
    "df.rename_axis(index={\n",
    "   'Year':'Time'}, inplace=True)\n",
    "df"
   ],
   "metadata": {
    "collapsed": false,
    "ExecuteTime": {
     "end_time": "2023-12-25T19:07:09.870012Z",
     "start_time": "2023-12-25T19:07:09.866731Z"
    }
   },
   "id": "183561aa491049e4"
  }
 ],
 "metadata": {
  "kernelspec": {
   "display_name": "Python 3",
   "language": "python",
   "name": "python3"
  },
  "language_info": {
   "codemirror_mode": {
    "name": "ipython",
    "version": 2
   },
   "file_extension": ".py",
   "mimetype": "text/x-python",
   "name": "python",
   "nbconvert_exporter": "python",
   "pygments_lexer": "ipython2",
   "version": "2.7.6"
  }
 },
 "nbformat": 4,
 "nbformat_minor": 5
}
